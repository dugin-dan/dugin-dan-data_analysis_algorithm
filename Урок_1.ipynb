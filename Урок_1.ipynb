{
 "cells": [
  {
   "cell_type": "code",
   "execution_count": 1,
   "metadata": {},
   "outputs": [],
   "source": [
    "import numpy as np\n",
    "import matplotlib.pyplot as plt"
   ]
  },
  {
   "cell_type": "code",
   "execution_count": 2,
   "metadata": {},
   "outputs": [],
   "source": [
    "np.random.seed(1234)"
   ]
  },
  {
   "cell_type": "code",
   "execution_count": 3,
   "metadata": {},
   "outputs": [],
   "source": [
    "# реализуем функцию, определяющую среднеквадратичную ошибку\n",
    "def mserror(X, w, y_pred):\n",
    "    y = X.dot(w)\n",
    "    return (sum((y - y_pred)**2)) / len(y)"
   ]
  },
  {
   "cell_type": "markdown",
   "metadata": {},
   "source": [
    "1. Подберите скорость обучения (alpha) и количество итераций для градиентного спуска. "
   ]
  },
  {
   "cell_type": "code",
   "execution_count": 4,
   "metadata": {},
   "outputs": [],
   "source": [
    "# Возьмем 2 признака и 100 объектов\n",
    "n_features = 2\n",
    "n_objects = 100\n",
    "\n",
    "# сгенерируем вектор истинных весов\n",
    "w_true = np.random.normal(size=(n_features, ))"
   ]
  },
  {
   "cell_type": "code",
   "execution_count": 5,
   "metadata": {},
   "outputs": [],
   "source": [
    "# сгенерируем матрицу X, вычислим Y с добавлением случайного шума\n",
    "X = np.random.uniform(-5, 5, (n_objects, n_features))\n",
    "Y = X.dot(w_true) + np.random.normal(0, 0.5, size=(n_objects))"
   ]
  },
  {
   "cell_type": "code",
   "execution_count": 6,
   "metadata": {},
   "outputs": [],
   "source": [
    "# возьмем нулевые начальные веса\n",
    "w = np.zeros(n_features)\n",
    "\n",
    "# список векторов весов после каждой итерации\n",
    "w_list = [w.copy()]\n",
    "\n",
    "# список значений ошибок после каждой итерации\n",
    "errors = []\n",
    "\n",
    "# зададим начальное значение шага градиентного спуска\n",
    "alpha = 1e-6\n",
    "\n",
    "# список значений шагов градиентного спуска\n",
    "alpha_list = []\n",
    "\n",
    "# список значений количества итераций\n",
    "iter_list = []\n",
    "\n",
    "# критерий сходимости (разница весов, при которой алгоритм останавливается)\n",
    "min_weight_dist = 1e-8\n",
    "\n",
    "# зададим начальную разницу весов большим числом\n",
    "weight_dist = np.inf\n",
    "\n",
    "# счетчик итераций\n",
    "iter_num = 0"
   ]
  },
  {
   "cell_type": "code",
   "execution_count": 7,
   "metadata": {},
   "outputs": [
    {
     "data": {
      "text/plain": [
       "array([1.000000e-06, 5.000000e-06, 2.500000e-05, 1.250000e-04,\n",
       "       6.250000e-04, 3.125000e-03, 1.562500e-02, 7.812500e-02,\n",
       "       3.906250e-01, 1.953125e+00, 9.765625e+00])"
      ]
     },
     "execution_count": 7,
     "metadata": {},
     "output_type": "execute_result"
    }
   ],
   "source": [
    "# ход градиентного спуска\n",
    "while alpha <= 10:\n",
    "    while weight_dist > min_weight_dist:\n",
    "        new_w = w - 2 * alpha * np.dot(X.T, (np.dot(X, w) - Y)) / Y.shape[0]\n",
    "        weight_dist = np.linalg.norm(new_w - w, ord=2)\n",
    "        iter_num += 1\n",
    "        w = new_w\n",
    "    iter_list.append(iter_num)\n",
    "    alpha_list.append(alpha)\n",
    "    errors.append(mserror(X, new_w, Y))\n",
    "    iter_num = 0\n",
    "    alpha *= 5\n",
    "    w = np.zeros(n_features)\n",
    "    weight_dist = np.inf\n",
    "\n",
    "alpha_list = np.array(alpha_list)\n",
    "iter_list = np.array(iter_list)\n",
    "alpha_list"
   ]
  },
  {
   "cell_type": "code",
   "execution_count": 8,
   "metadata": {},
   "outputs": [
    {
     "data": {
      "text/plain": [
       "array([512821, 124763,  29391,   6763,   1526,    335,     68,     27,\n",
       "          379,    198,    137])"
      ]
     },
     "execution_count": 8,
     "metadata": {},
     "output_type": "execute_result"
    }
   ],
   "source": [
    "iter_list"
   ]
  },
  {
   "cell_type": "code",
   "execution_count": 19,
   "metadata": {
    "scrolled": true
   },
   "outputs": [
    {
     "data": {
      "image/png": "[encoded data removed]",
      "text/plain": [
       "<Figure size 720x720 with 1 Axes>"
      ]
     },
     "metadata": {
      "needs_background": "light"
     },
     "output_type": "display_data"
    }
   ],
   "source": [
    "# Визуализируем скорость обучения в зависимости от шага градиентного спуска\n",
    "#plt.figure(figsize=(13, 6))\n",
    "fig, ax = plt.subplots(figsize=(10,10))\n",
    "\n",
    "plt.title('Gradient descent')\n",
    "plt.xlabel('шаг градиентного_спуска')\n",
    "plt.ylabel('кол-во_итераций')\n",
    "\n",
    "#plt.scatter(alpha_list, iter_list)\n",
    "plt.plot(alpha_list, '-r')\n",
    "plt.plot(iter_list, '-c')\n",
    "#plt.plot(alpha_list, iter_list)\n",
    "\n",
    "plt.show()"
   ]
  },
  {
   "cell_type": "code",
   "execution_count": null,
   "metadata": {},
   "outputs": [],
   "source": []
  }
 ],
 "metadata": {
  "kernelspec": {
   "display_name": "Python 3",
   "language": "python",
   "name": "python3"
  },
  "language_info": {
   "codemirror_mode": {
    "name": "ipython",
    "version": 3
   },
   "file_extension": ".py",
   "mimetype": "text/x-python",
   "name": "python",
   "nbconvert_exporter": "python",
   "pygments_lexer": "ipython3",
   "version": "3.8.5"
  }
 },
 "nbformat": 4,
 "nbformat_minor": 4
}
